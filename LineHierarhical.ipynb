{
 "cells": [
  {
   "cell_type": "markdown",
   "metadata": {},
   "source": [
    "# Иерархическая кластеризация точек на прямой\n",
    "Так как мы рассматриваем частный случай, когда все точки лежат на одной прямой, кластеризацию можно осуществить следующим образом:\n",
    "- Сортируем все точки, чтобы получить их в правильном порядке.\n",
    "- Считаем расстояния между всеми соседними точками.\n",
    "- Сортируем расстояния, чтобы получить порядок объединения кластеров.\n",
    "- Объединяем кластеры в полученном порядке до тех пор, пока расстояние между точками не превышает заданного порога. При этом будем присоединять кластер меньшего размера к классу большего, чтобы сократить издержки на обновление номера кластера для точек.\n",
    "\n",
    "Плохо такая кластеризация будет работать в случае, если все точки будут на одинаковом расстоянии друг от друга: в таком случае кластеры будут получаться абсолютно нерепрезентативными."
   ]
  },
  {
   "cell_type": "code",
   "execution_count": 1,
   "metadata": {},
   "outputs": [],
   "source": [
    "import numpy as np\n",
    "\n",
    "class LineHierarhicalClustering:\n",
    "    def __init__(self, points):\n",
    "        self.points = np.array(points)\n",
    "        assert(len(points.shape) == 2)\n",
    "        self.__prepare_points()\n",
    "        \n",
    "    def show_dists(self):\n",
    "        print('distances:', self.dists)\n",
    "        \n",
    "    def cluster(self, n_clusters=-1, threshold=-1):\n",
    "        assert(n_clusters != -1 or threshold != -1)\n",
    "        if (n_clusters != -1):\n",
    "            assert(0 < n_clusters <= len(self.points))\n",
    "        else:\n",
    "            assert(0 <= threshold)\n",
    "        \n",
    "        # \"result\" shows cluster id of each point and \"groups\" maps cluster id to list of this cluster's points\n",
    "        result = np.array([i for i in range(len(self.points))])\n",
    "        groups = dict(zip(result, [[i] for i in result]))\n",
    "        \n",
    "        # merging groups untill we face the threshold\n",
    "        cur_n_clusters = len(self.points)\n",
    "        for dist, pair in zip(self.dists, self.pairs):\n",
    "            if (n_clusters != -1):\n",
    "                if (n_clusters == cur_n_clusters):\n",
    "                    break\n",
    "            else:\n",
    "                if (dist > threshold):\n",
    "                    break\n",
    "                \n",
    "            group_id0, group_id1 = result[pair[0]], result[pair[1]]\n",
    "            group0, group1 = groups[group_id0], groups[group_id1]\n",
    "            if len(group0) > len(group1):\n",
    "                result[group1] = group_id0\n",
    "                group0 += group1\n",
    "                group1 = []\n",
    "                # del groups[group_id1]\n",
    "            else:\n",
    "                result[group0] = group_id1\n",
    "                group1 += group0\n",
    "                group0 = []\n",
    "                # del groups[group_id0]\n",
    "            cur_n_clusters -= 1\n",
    "            \n",
    "        # refine clusters ids to be in range(0, n_clusters)\n",
    "        refined_cluster_id = 0\n",
    "        prev_clst_id = result[0]\n",
    "        for i in range(1, len(result)):\n",
    "            if result[i] != prev_clst_id:\n",
    "                refined_cluster_id += 1\n",
    "            prev_clst_id = result[i]\n",
    "            result[i] = refined_cluster_id\n",
    "        result[0] = 0\n",
    "            \n",
    "        print('nubmer of clusters:', len(groups))\n",
    "        return result[self.sorted_points_order.argsort()]        \n",
    "    \n",
    "    def __prepare_points(self):\n",
    "        # sort points to place it on the line in right order\n",
    "        self.sorted_points_order = np.lexsort((points[:,0],points[:,1]))\n",
    "        self.points = self.points[self.sorted_points_order]\n",
    "            \n",
    "        # get valid pairs of points and distances between them\n",
    "        n_pairs = len(self.points) - 1\n",
    "        self.dists = np.zeros(n_pairs)\n",
    "        self.pairs = np.zeros((n_pairs, 2), dtype=int)\n",
    "        for i in range(n_pairs):\n",
    "            p1 = self.points[i]\n",
    "            p2 = self.points[i+1]\n",
    "            self.dists[i] = np.sqrt(np.square(p1[0] - p2[0]) + np.square(p1[1] - p2[1]))\n",
    "            self.pairs[i] = [i, i+1]\n",
    "            \n",
    "        # sort in unisson distances and corresponding pairs of points\n",
    "        sorted_dists_inds = self.dists.argsort()\n",
    "        self.dists = self.dists[sorted_dists_inds]\n",
    "        self.pairs = self.pairs[sorted_dists_inds]"
   ]
  },
  {
   "cell_type": "markdown",
   "metadata": {},
   "source": [
    "# Пример работы"
   ]
  },
  {
   "cell_type": "code",
   "execution_count": 2,
   "metadata": {},
   "outputs": [
    {
     "name": "stdout",
     "output_type": "stream",
     "text": [
      "distances: [0.70710678 1.41421356 1.41421356 1.41421356 2.12132034 2.82842712]\n"
     ]
    }
   ],
   "source": [
    "points = np.array([[1,1], [6.5,6.5], [4,4], [5,5], [7,7], [8,8], [2,2]])\n",
    "LHC = LineHierarhicalClustering(points)\n",
    "LHC.show_dists()"
   ]
  },
  {
   "cell_type": "code",
   "execution_count": 3,
   "metadata": {},
   "outputs": [
    {
     "name": "stdout",
     "output_type": "stream",
     "text": [
      "nubmer of clusters: 7\n",
      "[0 2 1 1 2 2 0]\n"
     ]
    }
   ],
   "source": [
    "cluster_ids = LHC.cluster(threshold = 2)\n",
    "# cluster_ids = LHC.cluster(n_clusters = 3)\n",
    "print(cluster_ids)"
   ]
  },
  {
   "cell_type": "code",
   "execution_count": 4,
   "metadata": {},
   "outputs": [
    {
     "data": {
      "image/png": "[encoded data removed]",
      "text/plain": [
       "<Figure size 432x288 with 1 Axes>"
      ]
     },
     "metadata": {
      "needs_background": "light"
     },
     "output_type": "display_data"
    }
   ],
   "source": [
    "import matplotlib.pyplot as plt\n",
    "import matplotlib.cm as cm\n",
    "%matplotlib inline \n",
    "\n",
    "n_clusters = len(np.unique(cluster_ids))\n",
    "colors = cm.rainbow(np.linspace(0, 1, n_clusters))\n",
    "plt.plot(points[:,0], points[:,1], color='k', zorder=1)\n",
    "for cluster_id, color in enumerate(colors):\n",
    "    clst_pts = points[np.where(cluster_ids == cluster_id)[0]]\n",
    "    plt.scatter(clst_pts[:,0], clst_pts[:,1], color=color, s=100, zorder=2, edgecolor='k')\n",
    "plt.show()"
   ]
  },
  {
   "cell_type": "code",
   "execution_count": null,
   "metadata": {},
   "outputs": [],
   "source": []
  }
 ],
 "metadata": {
  "kernelspec": {
   "display_name": "Python 3",
   "language": "python",
   "name": "python3"
  },
  "language_info": {
   "codemirror_mode": {
    "name": "ipython",
    "version": 3
   },
   "file_extension": ".py",
   "mimetype": "text/x-python",
   "name": "python",
   "nbconvert_exporter": "python",
   "pygments_lexer": "ipython3",
   "version": "3.6.8"
  }
 },
 "nbformat": 4,
 "nbformat_minor": 2
}
